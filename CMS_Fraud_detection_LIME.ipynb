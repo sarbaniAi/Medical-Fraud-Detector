{
 "cells": [
  {
   "cell_type": "markdown",
   "metadata": {
    "id": "vPRLnIUhPT2H"
   },
   "source": [
    "## Prediction of Medical Provider Fraud"
   ]
  },
  {
   "cell_type": "markdown",
   "metadata": {
    "id": "xWd59MyEOWD8"
   },
   "source": [
    "# Problem Statement :\n",
    "\n",
    " - ### Predict the probability that a provider is potential fraud  and flag them accordingly.\n",
    "\n",
    " - ### Detect Bias in Pre Train & Post Train Dataset.\n",
    "\n",
    " - ### Detect the important predictors which are impacting the final prediction \n",
    " \n",
    " - ###  Explain the final prediction using Exlainable AI modules - SHAPley, LIME, What-If \n",
    "\n"
   ]
  },
  {
   "cell_type": "markdown",
   "metadata": {
    "id": "bmIsuXnpH4Os"
   },
   "source": [
    "### Mounting the google drive"
   ]
  },
  {
   "cell_type": "code",
   "execution_count": 1,
   "metadata": {
    "colab": {
     "base_uri": "https://localhost:8080/"
    },
    "id": "IG45Ex8hBFRG",
    "outputId": "f12682c1-9af5-4f7b-8b5c-5c9f7b7a683a"
   },
   "outputs": [
    {
     "ename": "ModuleNotFoundError",
     "evalue": "No module named 'google.colab'",
     "output_type": "error",
     "traceback": [
      "\u001b[1;31m---------------------------------------------------------------------------\u001b[0m",
      "\u001b[1;31mModuleNotFoundError\u001b[0m                       Traceback (most recent call last)",
      "\u001b[1;32m<ipython-input-1-91874b305a32>\u001b[0m in \u001b[0;36m<module>\u001b[1;34m\u001b[0m\n\u001b[1;32m----> 1\u001b[1;33m \u001b[1;32mfrom\u001b[0m \u001b[0mgoogle\u001b[0m\u001b[1;33m.\u001b[0m\u001b[0mcolab\u001b[0m \u001b[1;32mimport\u001b[0m \u001b[0mdrive\u001b[0m\u001b[1;33m\u001b[0m\u001b[1;33m\u001b[0m\u001b[0m\n\u001b[0m\u001b[0;32m      2\u001b[0m \u001b[0mdrive\u001b[0m\u001b[1;33m.\u001b[0m\u001b[0mmount\u001b[0m\u001b[1;33m(\u001b[0m\u001b[1;34m'/content/drive/'\u001b[0m\u001b[1;33m)\u001b[0m\u001b[1;33m\u001b[0m\u001b[1;33m\u001b[0m\u001b[0m\n",
      "\u001b[1;31mModuleNotFoundError\u001b[0m: No module named 'google.colab'"
     ]
    }
   ],
   "source": [
    "from google.colab import drive\n",
    "drive.mount('/content/drive/')"
   ]
  },
  {
   "cell_type": "markdown",
   "metadata": {
    "id": "CvjnYEzWH99m"
   },
   "source": [
    "### Importing the libraries"
   ]
  },
  {
   "cell_type": "code",
   "execution_count": null,
   "metadata": {
    "id": "pCwi8xbdB4zC"
   },
   "outputs": [],
   "source": [
    "import numpy as np # linear algebra\n",
    "import pandas as pd # data processing, CSV file I/O (e.g. pd.read_csv)\n",
    "import scipy as sc\n",
    "import seaborn as sns\n",
    "import matplotlib.pyplot as plt\n",
    "import warnings     # for supressing a warning when importing large files\n",
    "warnings.filterwarnings(\"ignore\")\n",
    "from sklearn.preprocessing import StandardScaler,MinMaxScaler\n",
    "from imblearn.combine import SMOTETomek\n",
    "from sklearn.preprocessing import OneHotEncoder\n",
    "from sklearn.model_selection import train_test_split\n",
    "from sklearn.linear_model import LogisticRegression\n",
    "from sklearn.tree import DecisionTreeClassifier\n",
    "from sklearn.ensemble import RandomForestClassifier\n",
    "from sklearn.ensemble import GradientBoostingClassifier\n",
    "from sklearn.svm import SVC\n",
    "from sklearn.naive_bayes import GaussianNB\n",
    "from collections import Counter\n",
    "from sklearn.metrics import confusion_matrix,roc_curve,accuracy_score,roc_auc_score,classification_report\n",
    "import pickle\n",
    "from scipy import stats\n",
    "import time\n",
    "from sklearn.model_selection import GridSearchCV,KFold\n",
    "\n",
    "from pylab import rcParams\n",
    "\n",
    "%matplotlib inline\n",
    "sns.set(style='whitegrid', palette='muted', font_scale=1.5)\n",
    "rcParams['figure.figsize'] = 14, 8\n",
    "RANDOM_SEED = 42\n",
    "\n",
    "import os\n",
    "\n",
    "\n",
    "import matplotlib.pyplot as plt\n",
    "import seaborn as sns\n",
    "\n",
    "\n",
    "# Suppressing Warnings\n",
    "import warnings\n",
    "warnings.filterwarnings('ignore')"
   ]
  },
  {
   "cell_type": "markdown",
   "metadata": {
    "id": "hLnjHcuUDq5U"
   },
   "source": [
    "### Load the training data"
   ]
  },
  {
   "cell_type": "code",
   "execution_count": null,
   "metadata": {
    "id": "2TZTn2u27ojF"
   },
   "outputs": [],
   "source": [
    "cms_prov_drug = pd.read_csv(\"/content/drive/MyDrive/CMS/Medicare_Part_D_Prescribers_by_Provider_and_Drug_2019_12_31.csv\")\n",
    "\n",
    "cms_train154 = pd.read_csv(\"/content/drive/MyDrive/CMS/Train-1542865627584.csv\")\n",
    "\n",
    "cms_train_bene = pd.read_csv(\"/content/drive/MyDrive/CMS/Train_Beneficiarydata-1542865627584.csv\")\n",
    "\n",
    "cms_train_inpatient = pd.read_csv(\"/content/drive/MyDrive/CMS/Train_Inpatientdata-1542865627584.csv\")\n",
    "cms_train_outpatient = pd.read_csv(\"/content/drive/MyDrive/CMS/Train_Outpatientdata-1542865627584.csv\")\n",
    "\n",
    "#cms_train154 = pd.read_csv(\"Train-1542865627584.csv\")\n",
    "\n",
    "#cms_train_bene = pd.read_csv(\"Train_Beneficiarydata-1542865627584.csv\")\n",
    "\n",
    "#cms_train_inpatient = pd.read_csv(\"Train_Inpatientdata-1542865627584.csv\")\n",
    "#cms_train_outpatient = pd.read_csv(\"Train_Outpatientdata-1542865627584.csv\")\n"
   ]
  },
  {
   "cell_type": "code",
   "execution_count": null,
   "metadata": {
    "colab": {
     "base_uri": "https://localhost:8080/"
    },
    "id": "1sotiDy98gFK",
    "outputId": "ead170d3-6cad-4ee6-eab3-79f958c9638a"
   },
   "outputs": [],
   "source": [
    "print(\"cms_train154.shape: \",cms_train154.shape  )\n",
    "print(\"cms_train_bene.shape :\", cms_train_bene.shape)\n",
    "print(\"cms_train_inpatient.shape: \", cms_train_inpatient.shape)\n",
    "print(\"cms_train_outpatient.shape: \", cms_train_outpatient.shape)"
   ]
  },
  {
   "cell_type": "code",
   "execution_count": null,
   "metadata": {
    "id": "-WJH-l5xnc-_"
   },
   "outputs": [],
   "source": []
  },
  {
   "cell_type": "markdown",
   "metadata": {
    "id": "DNfdKaofwDWA"
   },
   "source": [
    "## LOADING TEST DATA"
   ]
  },
  {
   "cell_type": "code",
   "execution_count": null,
   "metadata": {
    "id": "t1Zbr52pMIDN"
   },
   "outputs": [],
   "source": [
    "cms_test154 = pd.read_csv(\"/content/drive/MyDrive/CMS/Test-1542969243754.csv\")\n",
    "cms_test_bene = pd.read_csv(\"/content/drive/MyDrive/CMS/Test_Beneficiarydata-1542969243754.csv\")\n",
    "cms_test_inpatient = pd.read_csv(\"/content/drive/MyDrive/CMS/Test_Inpatientdata-1542969243754.csv\")\n",
    "cms_test_outpatient = pd.read_csv(\"/content/drive/MyDrive/CMS/Test_Outpatientdata-1542969243754.csv\")\n",
    "\n",
    "#cms_test154 = pd.read_csv(\"Test-1542969243754.csv\")\n",
    "#cms_test_bene = pd.read_csv(\"Test_Beneficiarydata-1542969243754.csv\")\n",
    "#cms_test_inpatient = pd.read_csv(\"Test_Inpatientdata-1542969243754.csv\")\n",
    "#cms_test_outpatient = pd.read_csv(\"Test_Outpatientdata-1542969243754.csv\")"
   ]
  },
  {
   "cell_type": "code",
   "execution_count": null,
   "metadata": {
    "colab": {
     "base_uri": "https://localhost:8080/"
    },
    "id": "K_KuHL1EF8cJ",
    "outputId": "51942562-e9cb-4d67-f133-b533f07c5833"
   },
   "outputs": [],
   "source": [
    "\n",
    "print(\"cms_test154.shape: \",cms_test154.shape  )\n",
    "print(\"cms_test_bene.shape :\", cms_test_bene.shape)\n",
    "print(\"cms_test_inpatient.shape: \", cms_test_inpatient.shape)\n",
    "print(\"cms_test_outpatient.shape: \", cms_test_outpatient.shape)"
   ]
  },
  {
   "cell_type": "markdown",
   "metadata": {
    "id": "qjL6_BvZngh5"
   },
   "source": [
    "### Merge Train & Test data"
   ]
  },
  {
   "cell_type": "code",
   "execution_count": null,
   "metadata": {
    "colab": {
     "base_uri": "https://localhost:8080/"
    },
    "id": "YK7wSou6nfTg",
    "outputId": "79d9e8bd-7c8a-4d0f-9a52-a6bf38b95747"
   },
   "outputs": [],
   "source": [
    "# Merge Inpatient, Outpatient and beneficiary dataframe into a single patient dataset\n",
    "cms_provider = pd.merge(cms_train154, cms_test154,how = 'outer', on = 'Provider')\n",
    "cms_provider = pd.concat([cms_train154, cms_test154], axis=0)\n",
    "print(cms_provider.shape)\n",
    "\n",
    "\n",
    "                     "
   ]
  },
  {
   "cell_type": "code",
   "execution_count": null,
   "metadata": {
    "colab": {
     "base_uri": "https://localhost:8080/"
    },
    "id": "xNBKsELVKrN3",
    "outputId": "fdccb5ee-f982-4a2d-fe88-bac7d6edda2f"
   },
   "outputs": [],
   "source": [
    "cms_bene = pd.merge(cms_train_bene, cms_test_bene,how = 'outer', on = 'BeneID')\n",
    "\n",
    "cms_bene = pd.concat([cms_train_bene, cms_test_bene], axis=0)\n",
    "print(cms_bene.shape)"
   ]
  },
  {
   "cell_type": "code",
   "execution_count": null,
   "metadata": {
    "colab": {
     "base_uri": "https://localhost:8080/"
    },
    "id": "gv2juXW8nfYT",
    "outputId": "49e8c9e9-a75f-4ceb-b470-18f27e6e94bf"
   },
   "outputs": [],
   "source": [
    "#cms_inpatient = pd.merge(cms_train_inpatient, cms_test_inpatient,how = 'outer', on = ['BeneID', 'ClaimID'])\n",
    "cms_inpatient = pd.concat([cms_train_inpatient, cms_test_inpatient], axis=0)\n",
    "print(cms_inpatient.shape)"
   ]
  },
  {
   "cell_type": "code",
   "execution_count": null,
   "metadata": {
    "colab": {
     "base_uri": "https://localhost:8080/"
    },
    "id": "sAJ4PVVZNoxI",
    "outputId": "c48efe29-4930-4f12-a340-b57326acaa88"
   },
   "outputs": [],
   "source": [
    "#cms_outpatient = pd.merge(cms_train_outpatient, cms_test_outpatient,how = 'outer', on = ['BeneID', 'ClaimID'])\n",
    "cms_outpatient = pd.concat([cms_train_outpatient, cms_test_outpatient], axis=0)\n",
    "print(cms_outpatient.shape)"
   ]
  },
  {
   "cell_type": "markdown",
   "metadata": {
    "id": "0aTe7xW_P5y5"
   },
   "source": [
    "\n",
    "#### Missing value in cms_provider is due to Test data where Label data \"PotentialFraud\" is not present"
   ]
  },
  {
   "cell_type": "code",
   "execution_count": null,
   "metadata": {
    "colab": {
     "base_uri": "https://localhost:8080/"
    },
    "id": "XLzr46ZJMXQ9",
    "outputId": "0cc94b99-ca7c-45a7-eb4c-2d77f489fde9"
   },
   "outputs": [],
   "source": [
    "cms_provider.info()"
   ]
  },
  {
   "cell_type": "code",
   "execution_count": null,
   "metadata": {
    "colab": {
     "base_uri": "https://localhost:8080/"
    },
    "id": "0U537AbNEZq8",
    "outputId": "1789157a-c015-48bc-f3f6-7e05c896afe6"
   },
   "outputs": [],
   "source": [
    "cms_bene.info()"
   ]
  },
  {
   "cell_type": "markdown",
   "metadata": {
    "id": "iPmxzD_NQFJ9"
   },
   "source": [
    "#### Benficiary dataset -> Only Missing value is DOD column"
   ]
  },
  {
   "cell_type": "code",
   "execution_count": null,
   "metadata": {
    "id": "ifV1CiBEfshd"
   },
   "outputs": [],
   "source": []
  },
  {
   "cell_type": "markdown",
   "metadata": {
    "id": "_kpx83oQjNP8"
   },
   "source": [
    "### Derive Inpatient & OutPatient Indicator column which will be used in marged data to detect patient type"
   ]
  },
  {
   "cell_type": "code",
   "execution_count": null,
   "metadata": {
    "id": "dPmeHDvYKNwo"
   },
   "outputs": [],
   "source": [
    "#Function to calculate the unique count of columns for rach row\n",
    "def N_unique_values(df):\n",
    "    return np.array([len(set([i for i in x[~pd.isnull(x)]])) for x in df.values])"
   ]
  },
  {
   "cell_type": "markdown",
   "metadata": {
    "id": "mdK8IrfoO8-8"
   },
   "source": [
    "#### Inpatient & Putpatient dataset have multiple missing values."
   ]
  },
  {
   "cell_type": "code",
   "execution_count": null,
   "metadata": {
    "id": "sD4ldHgdjXau"
   },
   "outputs": [],
   "source": [
    "cms_inpatient[\"IsInpatient\"] = 1\n",
    "cms_outpatient[\"IsInpatient\"] = 0"
   ]
  },
  {
   "cell_type": "markdown",
   "metadata": {
    "id": "Z5oZtsmFF0fO"
   },
   "source": [
    "### Analyze the categorical values in beneficiary dataset"
   ]
  },
  {
   "cell_type": "code",
   "execution_count": null,
   "metadata": {
    "id": "UEGsramOS5Vi"
   },
   "outputs": [],
   "source": []
  },
  {
   "cell_type": "code",
   "execution_count": null,
   "metadata": {
    "colab": {
     "base_uri": "https://localhost:8080/"
    },
    "id": "6NR0I8JWWlLE",
    "outputId": "feb85ed6-7736-4368-b640-3b06353c22c9"
   },
   "outputs": [],
   "source": [
    "# subset all categorical variables\n",
    "cms_bene_categorical = cms_bene.select_dtypes(include=['object'])\n",
    "cms_bene_categorical.columns"
   ]
  },
  {
   "cell_type": "code",
   "execution_count": null,
   "metadata": {
    "colab": {
     "base_uri": "https://localhost:8080/"
    },
    "id": "YbmozoakQdqS",
    "outputId": "cf16ce63-53ee-444b-d687-021ecb0ec6f0"
   },
   "outputs": [],
   "source": [
    "colist= [ 'ChronicCond_Alzheimer', 'ChronicCond_Heartfailure',\n",
    "       'ChronicCond_KidneyDisease', 'ChronicCond_Cancer',\n",
    "       'ChronicCond_ObstrPulmonary', 'ChronicCond_Depression',\n",
    "       'ChronicCond_Diabetes', 'ChronicCond_IschemicHeart',\n",
    "       'ChronicCond_Osteoporasis', 'ChronicCond_rheumatoidarthritis',\n",
    "       'ChronicCond_stroke']\n",
    "for i in colist :\n",
    "  print(cms_bene[i].value_counts())"
   ]
  },
  {
   "cell_type": "markdown",
   "metadata": {
    "id": "HOh-iik1OcTC"
   },
   "source": [
    "### Categorical variables in cms_train_bene file are having values 1 & 2.\n",
    "2 means Chronic disease = \"No\" and 1 means \"Yes\".\n",
    "\n",
    "### Let's replace the 2 with Zero. Hence after the mapping ->\n",
    "\n",
    "### chronic condition :  \"NO\" is 0 and \"YES\" is 1\n",
    "\n",
    "#### No dummy is required as they have only binary categorization\n"
   ]
  },
  {
   "cell_type": "code",
   "execution_count": null,
   "metadata": {
    "id": "YLV5d6nXObyb"
   },
   "outputs": [],
   "source": [
    "cms_bene = cms_train_bene.replace({'ChronicCond_Alzheimer': 2, 'ChronicCond_Heartfailure': 2, 'ChronicCond_KidneyDisease': 2,\n",
    "                           'ChronicCond_Cancer': 2, 'ChronicCond_ObstrPulmonary': 2, 'ChronicCond_Depression': 2, \n",
    "                           'ChronicCond_Diabetes': 2, 'ChronicCond_IschemicHeart': 2, 'ChronicCond_Osteoporasis': 2, \n",
    "                           'ChronicCond_rheumatoidarthritis': 2, 'ChronicCond_stroke': 2 }, 0)\n",
    "\n",
    "cms_bene = cms_bene.replace({'RenalDiseaseIndicator': 'Y'}, 1)"
   ]
  },
  {
   "cell_type": "code",
   "execution_count": null,
   "metadata": {
    "id": "SBecqKYUDCWD"
   },
   "outputs": [],
   "source": []
  },
  {
   "cell_type": "markdown",
   "metadata": {
    "id": "_xkv_06LP80G"
   },
   "source": [
    "### Derive age from DOB & DOD in cms_train_bene file \n",
    " \n",
    "#### Treating the Missing DOD : Missing DOD means the person is alive and fill the missing values with the year when this data was extracted.\n",
    "\n",
    "#### The last DOD value is 2009-12-01 ,which means Beneficiary Details data was extracted on 2009.\n",
    "#### Hence fill the mising DOD with 2009\n",
    "\n",
    "\n",
    "\n"
   ]
  },
  {
   "cell_type": "code",
   "execution_count": null,
   "metadata": {
    "id": "IRzfwn_bTuxb"
   },
   "outputs": [],
   "source": []
  },
  {
   "cell_type": "code",
   "execution_count": null,
   "metadata": {
    "colab": {
     "base_uri": "https://localhost:8080/"
    },
    "id": "eOLl5-KXUUfb",
    "outputId": "fd1c3fc1-6aef-4bd4-cf61-ab78d950e2cf"
   },
   "outputs": [],
   "source": [
    "#Creating a new variable 'IsDead' with flag 1 means Dead and 0 means not Dead\n",
    "\n",
    "cms_bene.loc[cms_bene.DOD.isna(),'IsDead']=0\n",
    "cms_bene.loc[cms_bene.DOD.notna(),'IsDead']=1\n",
    "cms_bene.loc[:,'IsDead'].head(7)\n",
    "\n",
    "\n"
   ]
  },
  {
   "cell_type": "markdown",
   "metadata": {
    "id": "WKt2ER7QW6Nn"
   },
   "source": [
    "### Derive new columns for in Patient data\n",
    "\n",
    "#### Deriving days of admission in hospital"
   ]
  },
  {
   "cell_type": "code",
   "execution_count": null,
   "metadata": {
    "id": "V_7Da5c0W-Qd"
   },
   "outputs": [],
   "source": [
    "## As patient can be admitted for only for 1 day,lets add 1 to the difference of Discharge Date and Admission Date \n",
    "\n",
    "cms_inpatient['AdmissionDt'] = pd.to_datetime(cms_inpatient['AdmissionDt'] , format = '%Y-%m-%d')\n",
    "cms_inpatient['DischargeDt'] = pd.to_datetime(cms_inpatient['DischargeDt'],format = '%Y-%m-%d')\n",
    "cms_inpatient['AdmissionDuration'] = ((cms_inpatient['DischargeDt'] - cms_inpatient['AdmissionDt']).dt.days)+1\n"
   ]
  },
  {
   "cell_type": "code",
   "execution_count": null,
   "metadata": {
    "id": "SoQDCnzespUM"
   },
   "outputs": [],
   "source": [
    "cms_inpatient['MismatchedAdmitCode'] = np.where(cms_inpatient['ClmAdmitDiagnosisCode'] == cms_inpatient['ClmDiagnosisCode_1'], 0, 1)"
   ]
  },
  {
   "cell_type": "markdown",
   "metadata": {
    "id": "Or7oycc5Y5rj"
   },
   "source": [
    "###  Merge the Benefitiary data with in patient & out patient data"
   ]
  },
  {
   "cell_type": "code",
   "execution_count": null,
   "metadata": {
    "id": "a1GetArOY7b7"
   },
   "outputs": [],
   "source": [
    "cms_patient_mergeid = [i for i in cms_outpatient.columns if i in cms_inpatient.columns]\n",
    "\n",
    "# Merge Inpatient, Outpatient and beneficiary dataframe into a single patient dataset\n",
    "cms_patient_data = pd.merge(cms_inpatient, cms_outpatient,\n",
    "                   left_on = cms_patient_mergeid,\n",
    "                   right_on = cms_patient_mergeid,\n",
    "                   how = 'outer').\\\n",
    "          merge(cms_bene,left_on='BeneID',right_on='BeneID',how='inner')"
   ]
  },
  {
   "cell_type": "code",
   "execution_count": null,
   "metadata": {
    "colab": {
     "base_uri": "https://localhost:8080/"
    },
    "id": "KSTH4BHx8rVw",
    "outputId": "a6d1bae7-d50d-47e4-8929-c0ac537b7c58"
   },
   "outputs": [],
   "source": [
    "cms_patient_data.columns"
   ]
  },
  {
   "cell_type": "markdown",
   "metadata": {
    "id": "EktgtL10-kxP"
   },
   "source": [
    "### Missing value treatment on merged beneficiary & in/out patient data"
   ]
  },
  {
   "cell_type": "code",
   "execution_count": null,
   "metadata": {
    "colab": {
     "base_uri": "https://localhost:8080/"
    },
    "id": "lLLabAYs-Z1l",
    "outputId": "8840e7c4-5da6-4f6e-9c04-25906ab8997d"
   },
   "outputs": [],
   "source": [
    "\n",
    "missing_columns = cms_patient_data.columns[cms_patient_data.isnull().sum() > 1]\n",
    "missing_columns"
   ]
  },
  {
   "cell_type": "code",
   "execution_count": null,
   "metadata": {
    "colab": {
     "base_uri": "https://localhost:8080/",
     "height": 305
    },
    "id": "YgAU_v9nQYD3",
    "outputId": "f324a66f-1f05-46ac-b87b-25f132e77e23"
   },
   "outputs": [],
   "source": [
    "cms_bene['DOB'] = pd.to_datetime(cms_bene['DOB'] , format = '%Y-%m-%d')\n",
    "cms_bene['DOD'] = pd.to_datetime(cms_bene['DOD'],format = '%Y-%m-%d',errors='ignore')\n",
    "#cms_bene['age'] = round(((cms_bene['DOD'] - cms_bene['DOB']).dt.days)/365)\n",
    "\n",
    "\n",
    "cms_patient_data['age'] = pd.to_datetime(cms_patient_data['ClaimStartDt']) - pd.to_datetime(cms_patient_data['DOB'])\n",
    "cms_patient_data['age'] = np.floor(cms_patient_data['age'].astype(str).str.extract('(\\d+)').astype(int) / 365.24)\n",
    "\n",
    "\n",
    "\n",
    "cms_patient_data['Age_Under_65'] = np.where(cms_patient_data.age < 65, 1, 0)\n",
    "\n",
    "cms_patient_data['Age_65_upto_75'] = np.where((cms_patient_data.age >= 65) & (cms_patient_data.age < 75), 1, 0)\n",
    "cms_patient_data['Age_75_upto_85'] = np.where((cms_patient_data.age >= 75) & (cms_patient_data.age < 85), 1, 0)\n",
    "\n",
    "cms_patient_data['Age_85_or_Over'] = np.where(cms_patient_data.age >= 85, 1, 0)\n",
    "\n",
    "cms_patient_data.head(5)"
   ]
  },
  {
   "cell_type": "code",
   "execution_count": null,
   "metadata": {
    "colab": {
     "base_uri": "https://localhost:8080/"
    },
    "id": "jualf7qQDOI2",
    "outputId": "30403471-6bab-4430-e122-05b7cbe28787"
   },
   "outputs": [],
   "source": [
    "cms_race_dummy = pd.get_dummies(cms_patient_data[\"Race\"], prefix = \"Race\" )\n",
    "print(cms_race_dummy.head())\n",
    "\n",
    "# concat dummy variables with categorical dataset\n",
    "cms_patient_data = pd.concat([cms_patient_data, cms_race_dummy], axis=1)"
   ]
  },
  {
   "cell_type": "code",
   "execution_count": null,
   "metadata": {
    "colab": {
     "base_uri": "https://localhost:8080/"
    },
    "id": "kW4t-_bt3qDM",
    "outputId": "91ed0de1-4b08-448b-fa8f-7a842636c288"
   },
   "outputs": [],
   "source": [
    "PhysicianList = ['AttendingPhysician', 'OperatingPhysician', 'OtherPhysician']\n",
    "# Lets's count the number of Physicians for each record and store them in a new variable\n",
    "\n",
    "cms_patient_data['N_UniquePhysician'] = N_unique_values(cms_patient_data[PhysicianList])\n",
    "\n",
    "\n",
    "cms_patient_data['N_UniquePhysician'].value_counts()\n"
   ]
  },
  {
   "cell_type": "markdown",
   "metadata": {
    "id": "KWj_W74LBBev"
   },
   "source": [
    "#### Let's replace AttendingPhysician, OperatingPhysician, OtherPhysician, columns value with 0 and 1 where we have value we are replacing it with 1 and in place of null value we replace it with 0.\n"
   ]
  },
  {
   "cell_type": "code",
   "execution_count": null,
   "metadata": {
    "id": "y90Fynr5-11T"
   },
   "outputs": [],
   "source": [
    "\n",
    "\n",
    "cms_patient_data[['AttendingPhysician', 'OperatingPhysician', 'OtherPhysician']] = np.where(cms_patient_data[['AttendingPhysician', 'OperatingPhysician', 'OtherPhysician']].isnull(), 0, 1)\n"
   ]
  },
  {
   "cell_type": "markdown",
   "metadata": {
    "id": "Zd_yG_jeB0zw"
   },
   "source": [
    "### Derive total number of physicians are attached with the claim of the patient"
   ]
  },
  {
   "cell_type": "code",
   "execution_count": null,
   "metadata": {
    "colab": {
     "base_uri": "https://localhost:8080/"
    },
    "id": "h_ogb6wlBt87",
    "outputId": "b5363c9b-52a4-4cd4-c86c-312942cfccda"
   },
   "outputs": [],
   "source": [
    "\n",
    "\n",
    "\n",
    "cms_patient_data['total_physicians'] = cms_patient_data['AttendingPhysician'] +  cms_patient_data['OperatingPhysician'] + cms_patient_data['OtherPhysician']\n",
    "\n",
    "cms_patient_data['total_physicians']"
   ]
  },
  {
   "cell_type": "code",
   "execution_count": null,
   "metadata": {
    "id": "8C0jyMtc6w5B"
   },
   "outputs": [],
   "source": [
    "#cms_patient_data[cms_patient_data['BeneID'] == 'BENE100002']\n",
    "\n"
   ]
  },
  {
   "cell_type": "code",
   "execution_count": null,
   "metadata": {
    "id": "0CDQ2l04ei6N"
   },
   "outputs": [],
   "source": []
  },
  {
   "cell_type": "markdown",
   "metadata": {
    "id": "4pM94xwfC09J"
   },
   "source": [
    "# Treating missing values in DignosisGroupCode Count"
   ]
  },
  {
   "cell_type": "code",
   "execution_count": null,
   "metadata": {
    "id": "9AZTybGqekfo"
   },
   "outputs": [],
   "source": []
  },
  {
   "cell_type": "code",
   "execution_count": null,
   "metadata": {
    "colab": {
     "base_uri": "https://localhost:8080/"
    },
    "id": "VRsTXz4PCL9I",
    "outputId": "791cbfa4-fd18-461a-d659-c35aa6a4f728"
   },
   "outputs": [],
   "source": [
    "\n",
    "count_DiagnosisGroupCode=cms_patient_data['DiagnosisGroupCode'].value_counts()\n",
    "count_DiagnosisGroupCode=count_DiagnosisGroupCode[:20] # To show only top 20 codes \n",
    "count_DiagnosisGroupCode"
   ]
  },
  {
   "cell_type": "markdown",
   "metadata": {
    "id": "2w2Tgn7PE_C6"
   },
   "source": [
    "#### Since DignosisGroupCode has maximum values as null, so we are s by creating a new column \"IsDiagnosisCode\" in which value will either \"1\" or \"0\" .\n",
    "#### if groupDiagnosiscode  has null value in a claim then \"IsDiagnosisCode\" column value is 0 otherwise 1"
   ]
  },
  {
   "cell_type": "code",
   "execution_count": null,
   "metadata": {
    "id": "SJb84IJlDb-s"
   },
   "outputs": [],
   "source": [
    "\n",
    "\n",
    "cms_patient_data['IsDiagnosisCode'] = np.where(cms_patient_data.DiagnosisGroupCode.notnull(), 1, 0)\n",
    "#cms_patient_data = cms_patient_data.drop(['DiagnosisGroupCode'], axis = 1) # We are droping the column \"DiagnosisGroupCode\""
   ]
  },
  {
   "cell_type": "markdown",
   "metadata": {
    "id": "EuyUrkSMMwz9"
   },
   "source": [
    "### Handling missing values for \"DeductibleamtPaid\" column\n",
    "\n",
    "#### Check number of missing values in this variable"
   ]
  },
  {
   "cell_type": "code",
   "execution_count": null,
   "metadata": {
    "colab": {
     "base_uri": "https://localhost:8080/"
    },
    "id": "8Qw7BrKVEnrL",
    "outputId": "3b4415ac-2228-4f3e-f76a-c567b4626e42"
   },
   "outputs": [],
   "source": [
    "\n",
    "cms_patient_data['DeductibleAmtPaid'].isnull().sum()  "
   ]
  },
  {
   "cell_type": "code",
   "execution_count": null,
   "metadata": {
    "colab": {
     "base_uri": "https://localhost:8080/",
     "height": 368
    },
    "id": "7JwbD7eGEnuc",
    "outputId": "d4943b46-819c-4fe7-9c1e-12f1dad9f5b1"
   },
   "outputs": [],
   "source": [
    "## Count Plot of \"DeductibleAmtPaid\" values\n",
    "\n",
    "fig=plt.figure(figsize=(10,5))\n",
    "sns.countplot(cms_patient_data['DeductibleAmtPaid'])"
   ]
  },
  {
   "cell_type": "markdown",
   "metadata": {
    "id": "OIEgnqzAoSEw"
   },
   "source": [
    "#### maximum values are 0 here"
   ]
  },
  {
   "cell_type": "code",
   "execution_count": null,
   "metadata": {
    "colab": {
     "base_uri": "https://localhost:8080/",
     "height": 424
    },
    "id": "ep4HtYIWEnyC",
    "outputId": "ce4accdb-1fab-464d-f903-7ce74a5aef7a"
   },
   "outputs": [],
   "source": [
    "## Box plot of this \"DeductibleAmtPaid\", maximum values are 0 that shows here.\n",
    "\n",
    "fig=plt.figure(figsize=(8,6))\n",
    "sns.boxplot(cms_patient_data['DeductibleAmtPaid'])\n",
    "fig.tight_layout()"
   ]
  },
  {
   "cell_type": "code",
   "execution_count": null,
   "metadata": {
    "id": "uKZh8LbNEn2Z"
   },
   "outputs": [],
   "source": [
    "## The above analysis tells that we can replace missing values with 0 \n",
    "\n",
    "cms_patient_data['DeductibleAmtPaid'].fillna(0,inplace=True)"
   ]
  },
  {
   "cell_type": "code",
   "execution_count": null,
   "metadata": {
    "id": "6e_KfTj_En8w"
   },
   "outputs": [],
   "source": [
    "### creating one new variable \"IsDeductibleAmtPaid\" which tells is DeductibleAmtPaid Zero or not\n",
    "\n",
    "cms_patient_data['IsDeductibleAmtPaid']=np.where(cms_patient_data['DeductibleAmtPaid']==0,0,1) "
   ]
  },
  {
   "cell_type": "code",
   "execution_count": null,
   "metadata": {
    "colab": {
     "base_uri": "https://localhost:8080/",
     "height": 457
    },
    "id": "kEKjLi7hEoBQ",
    "outputId": "bba5b2e6-77f6-4ec2-d41b-7f602e8cda5f"
   },
   "outputs": [],
   "source": [
    "fig=plt.figure(figsize=(8,6))\n",
    "sns.countplot(cms_patient_data['IsDeductibleAmtPaid'])\n",
    "\n",
    "print(cms_patient_data['IsDeductibleAmtPaid'].value_counts())"
   ]
  },
  {
   "cell_type": "code",
   "execution_count": null,
   "metadata": {
    "colab": {
     "base_uri": "https://localhost:8080/"
    },
    "id": "IFnSwdxbo-hk",
    "outputId": "0e88fb00-c9dc-4d1c-f0f1-9a925d4c1e2c"
   },
   "outputs": [],
   "source": [
    "### Handling missing values for \"AdmitForDays\" column, Count of missing values in this column\n",
    "\n",
    "cms_patient_data['AdmissionDuration'].isnull().sum() "
   ]
  },
  {
   "cell_type": "code",
   "execution_count": null,
   "metadata": {
    "id": "RVEkOWN8o-lD"
   },
   "outputs": [],
   "source": [
    "# Replace all missing value with 0 which indicates patients who was not admitted to hospital\n",
    "\n",
    "cms_patient_data['AdmissionDuration'].fillna(0,inplace=True)"
   ]
  },
  {
   "cell_type": "code",
   "execution_count": null,
   "metadata": {
    "colab": {
     "base_uri": "https://localhost:8080/"
    },
    "id": "jYAVc5gJo-pC",
    "outputId": "1890bcc9-6561-4afd-d2c3-f81172fe5aa1"
   },
   "outputs": [],
   "source": [
    "cms_patient_data['AdmissionDuration'].isnull().sum() "
   ]
  },
  {
   "cell_type": "code",
   "execution_count": null,
   "metadata": {
    "id": "ZCy8wGKMbk85"
   },
   "outputs": [],
   "source": [
    "### Count number of records\n",
    "## From here we get the count of BeneID and ClaimId for each provider\n",
    "\n",
    "## For Train \n",
    "cms_patient_data_cnt = cms_patient_data[['BeneID', 'ClaimID']].groupby(cms_patient_data['Provider']).nunique().reset_index()\n",
    "cms_patient_data_cnt.rename(columns={'BeneID':'BeneID_count','ClaimID':'ClaimID_count'},inplace=True)"
   ]
  },
  {
   "cell_type": "markdown",
   "metadata": {
    "id": "hh6jNy0BsisN"
   },
   "source": [
    "### Handling ClmProcedureCodes variables and missing values\n"
   ]
  },
  {
   "cell_type": "code",
   "execution_count": null,
   "metadata": {
    "colab": {
     "base_uri": "https://localhost:8080/"
    },
    "id": "w2ph-c0-o-r0",
    "outputId": "c4206cba-e5c0-44cf-bcfc-36cc9db85139"
   },
   "outputs": [],
   "source": [
    "#Convert ClmProcedure_vars to categorical value\n",
    "cms_patient_data['ClmProcedureCode_1'] = cms_patient_data['ClmProcedureCode_1'].astype('object')\n",
    "cms_patient_data['ClmProcedureCode_2'] = cms_patient_data['ClmProcedureCode_2'].astype('object')\n",
    "cms_patient_data['ClmProcedureCode_3'] = cms_patient_data['ClmProcedureCode_3'].astype('object')\n",
    "cms_patient_data['ClmProcedureCode_4'] = cms_patient_data['ClmProcedureCode_4'].astype('object')\n",
    "cms_patient_data['ClmProcedureCode_5'] = cms_patient_data['ClmProcedureCode_5'].astype('object')\n",
    "cms_patient_data['ClmProcedureCode_6'] = cms_patient_data['ClmProcedureCode_6'].astype('object')\n",
    "\n",
    "ClmProcedure_vars = ['ClmProcedureCode_{}'.format(x) for x in range(1,7)]\n",
    "print(ClmProcedure_vars)"
   ]
  },
  {
   "cell_type": "code",
   "execution_count": null,
   "metadata": {
    "colab": {
     "base_uri": "https://localhost:8080/"
    },
    "id": "MPB3ev1Lo-u3",
    "outputId": "398633a2-2374-4d5b-c1d6-ebecaba83c02"
   },
   "outputs": [],
   "source": [
    "## To Check how many null values are in each Clmprocedurecodes\n",
    "\n",
    "\n",
    "cms_patient_data[ClmProcedure_vars].isnull().sum()"
   ]
  },
  {
   "cell_type": "code",
   "execution_count": null,
   "metadata": {
    "colab": {
     "base_uri": "https://localhost:8080/"
    },
    "id": "TA87yU6c_71P",
    "outputId": "7e483a66-489b-4bb7-8974-bc3390e47b38"
   },
   "outputs": [],
   "source": [
    "cms_patient_data['ClmProcedureCode_1'].value_counts()"
   ]
  },
  {
   "cell_type": "markdown",
   "metadata": {
    "id": "BwzZLPYMtKYg"
   },
   "source": [
    "### This function helps us find the length of unique values in each row/record"
   ]
  },
  {
   "cell_type": "code",
   "execution_count": null,
   "metadata": {
    "colab": {
     "base_uri": "https://localhost:8080/",
     "height": 414
    },
    "id": "W1D7AL6qo-y-",
    "outputId": "3f93a077-cb2b-4f8a-9dce-8becbf35e5c6"
   },
   "outputs": [],
   "source": [
    "cms_patient_data[ClmProcedure_vars]\n"
   ]
  },
  {
   "cell_type": "markdown",
   "metadata": {
    "id": "mvkOIxX8tUT_"
   },
   "source": [
    "### We count the number of procedureCode for each claim and store these value in a new variable"
   ]
  },
  {
   "cell_type": "code",
   "execution_count": null,
   "metadata": {
    "colab": {
     "base_uri": "https://localhost:8080/"
    },
    "id": "djcSRa1otI6W",
    "outputId": "1e7c8838-b5b7-47d3-a395-123258ffeb88"
   },
   "outputs": [],
   "source": [
    "\n",
    "cms_patient_data['N_Procedure'] = N_unique_values(cms_patient_data[ClmProcedure_vars])\n",
    "\n",
    "## So from here we get to know that 534901 claims/records has 0 claim procedure codes, 17820 claims/records has 1 claimprocedurecodes and so on\n",
    "\n",
    "cms_patient_data['N_Procedure'].value_counts()"
   ]
  },
  {
   "cell_type": "markdown",
   "metadata": {
    "id": "dfrQszm7tmgD"
   },
   "source": [
    "### Handling of 'ClmDiagnosisCode'"
   ]
  },
  {
   "cell_type": "code",
   "execution_count": null,
   "metadata": {
    "colab": {
     "base_uri": "https://localhost:8080/"
    },
    "id": "Iu2jjLOptI-J",
    "outputId": "48d61970-8a43-4c50-fcf6-cb25585d34f8"
   },
   "outputs": [],
   "source": [
    "\n",
    "\n",
    "# We count the number of claims\n",
    "ClmDiagnosisCode_vars =['ClmAdmitDiagnosisCode'] + ['ClmDiagnosisCode_{}'.format(x) for x in range(1, 11)]\n",
    "\n",
    "\n",
    "ClmDiagnosisCode_vars"
   ]
  },
  {
   "cell_type": "code",
   "execution_count": null,
   "metadata": {
    "colab": {
     "base_uri": "https://localhost:8080/"
    },
    "id": "pmGYopZItJCg",
    "outputId": "5bd27218-6823-429f-9536-18c465794f9f"
   },
   "outputs": [],
   "source": [
    "# Lets's count the number of CLMDiagnosisCode for each record and store them in a new variable\n",
    "\n",
    "cms_patient_data['N_UniqueDiagnosis_Claims'] = N_unique_values(cms_patient_data[ClmDiagnosisCode_vars])\n",
    "\n",
    "\n",
    "cms_patient_data['N_UniqueDiagnosis_Claims'].value_counts()"
   ]
  },
  {
   "cell_type": "code",
   "execution_count": null,
   "metadata": {
    "id": "p7vo8eUlIGPX"
   },
   "outputs": [],
   "source": []
  },
  {
   "cell_type": "code",
   "execution_count": null,
   "metadata": {
    "colab": {
     "base_uri": "https://localhost:8080/",
     "height": 352
    },
    "id": "IQ0BRV25_WDp",
    "outputId": "b9be8566-e1e0-4638-fa30-832d9d390577"
   },
   "outputs": [],
   "source": [
    "cms_patient_data.head(6)"
   ]
  },
  {
   "cell_type": "code",
   "execution_count": null,
   "metadata": {
    "id": "Rfk4otsiuLIS"
   },
   "outputs": [],
   "source": []
  },
  {
   "cell_type": "code",
   "execution_count": null,
   "metadata": {
    "colab": {
     "base_uri": "https://localhost:8080/"
    },
    "id": "M2Lsj9kr1kmU",
    "outputId": "e43b231c-b1f8-4e0c-818e-5f8a03ec3f73"
   },
   "outputs": [],
   "source": [
    "cms_patient_data[\"Gender\"].value_counts()"
   ]
  },
  {
   "cell_type": "code",
   "execution_count": null,
   "metadata": {
    "id": "02oW_YUM1uX_"
   },
   "outputs": [],
   "source": [
    "cms_patient_data['Gender']=cms_patient_data['Gender'].replace(2,0)"
   ]
  },
  {
   "cell_type": "code",
   "execution_count": null,
   "metadata": {
    "colab": {
     "base_uri": "https://localhost:8080/"
    },
    "id": "Y0flfAp91zqx",
    "outputId": "08818bad-1122-4fc3-be8e-2d41ad4f5dcd"
   },
   "outputs": [],
   "source": [
    "cms_patient_data[\"Gender\"].value_counts()"
   ]
  },
  {
   "cell_type": "code",
   "execution_count": null,
   "metadata": {
    "colab": {
     "base_uri": "https://localhost:8080/"
    },
    "id": "TMhtLCFD27Wy",
    "outputId": "70a10f27-8b02-4bbd-986e-37bb8e398784"
   },
   "outputs": [],
   "source": [
    "cms_patient_data.columns"
   ]
  },
  {
   "cell_type": "code",
   "execution_count": null,
   "metadata": {
    "colab": {
     "base_uri": "https://localhost:8080/"
    },
    "id": "V0dpWbps3NGa",
    "outputId": "ebb8acad-0c04-4001-c4f0-97166eee6ed3"
   },
   "outputs": [],
   "source": [
    "cms_patient_data[\"Race\"].value_counts()"
   ]
  },
  {
   "cell_type": "markdown",
   "metadata": {
    "id": "GvQl3xgt8mtk"
   },
   "source": [
    "## Create dummy variables for Race column ->convert into dummies - one hot encoding"
   ]
  },
  {
   "cell_type": "code",
   "execution_count": null,
   "metadata": {
    "colab": {
     "base_uri": "https://localhost:8080/"
    },
    "id": "mM1tsYeM20nt",
    "outputId": "84a4d74a-229d-4510-ebda-e266bc5d0fb6"
   },
   "outputs": [],
   "source": [
    "cms_patient_data.columns"
   ]
  },
  {
   "cell_type": "code",
   "execution_count": null,
   "metadata": {
    "colab": {
     "base_uri": "https://localhost:8080/"
    },
    "id": "axcVON76_KE0",
    "outputId": "782f0d71-fc64-4560-cb19-c4294ca91034"
   },
   "outputs": [],
   "source": [
    "cms_patient_data.shape"
   ]
  },
  {
   "cell_type": "code",
   "execution_count": null,
   "metadata": {
    "colab": {
     "base_uri": "https://localhost:8080/"
    },
    "id": "hJ2qH3YUmt2B",
    "outputId": "c32f79c1-241f-4bcf-d3fe-ac6f4f87241e"
   },
   "outputs": [],
   "source": [
    "# subset all categorical variables\n",
    "cms_patient_categorical = cms_patient_data.select_dtypes(include=['object'])\n",
    "cms_patient_categorical.columns"
   ]
  },
  {
   "cell_type": "code",
   "execution_count": null,
   "metadata": {
    "colab": {
     "base_uri": "https://localhost:8080/",
     "height": 424
    },
    "id": "92FPXFZJuLMi",
    "outputId": "f5e1e860-7031-4da3-c9c4-012dc15a360e"
   },
   "outputs": [],
   "source": [
    "## Convert RenalDiseaseIndicator from object to integer\n",
    "\n",
    "cms_patient_data['RenalDiseaseIndicator']=cms_patient_data.RenalDiseaseIndicator.astype(int) \n",
    "\n",
    "fig=plt.figure(figsize=(8,6))\n",
    "sns.countplot(cms_patient_data['RenalDiseaseIndicator'])\n",
    "fig.tight_layout()"
   ]
  },
  {
   "cell_type": "code",
   "execution_count": null,
   "metadata": {
    "id": "DrGHPglFH9u9"
   },
   "outputs": [],
   "source": []
  },
  {
   "cell_type": "code",
   "execution_count": null,
   "metadata": {
    "colab": {
     "base_uri": "https://localhost:8080/"
    },
    "id": "dqBGu6GYMr2H",
    "outputId": "5eb50324-f5ff-4aff-d221-cdad0ec3ea88"
   },
   "outputs": [],
   "source": [
    "cms_provider.columns"
   ]
  },
  {
   "cell_type": "code",
   "execution_count": null,
   "metadata": {
    "colab": {
     "base_uri": "https://localhost:8080/"
    },
    "id": "PiJiQhtCMH9L",
    "outputId": "86e192d7-c5a2-4426-dbe3-1eeee4c35c1e"
   },
   "outputs": [],
   "source": [
    "print(cms_patient_data.shape)\n",
    "print(cms_provider.shape)"
   ]
  },
  {
   "cell_type": "code",
   "execution_count": null,
   "metadata": {
    "colab": {
     "base_uri": "https://localhost:8080/"
    },
    "id": "EkeYvOafMH_7",
    "outputId": "f3d37df5-0aa0-4306-bb7f-abddfcbc6039"
   },
   "outputs": [],
   "source": [
    "cms_patient_data[\"Provider\"].nunique()"
   ]
  },
  {
   "cell_type": "code",
   "execution_count": null,
   "metadata": {
    "colab": {
     "base_uri": "https://localhost:8080/"
    },
    "id": "iz4dvw9-9B0r",
    "outputId": "37870002-841a-460d-d9cb-f229265b2313"
   },
   "outputs": [],
   "source": [
    "cms_provider[\"PotentialFraud\"].value_counts()"
   ]
  },
  {
   "cell_type": "code",
   "execution_count": null,
   "metadata": {
    "colab": {
     "base_uri": "https://localhost:8080/",
     "height": 414
    },
    "id": "7GdLo9ye9aju",
    "outputId": "95e50cb8-51fa-4c33-d66c-4374aab2d4fe"
   },
   "outputs": [],
   "source": [
    "cms_test154"
   ]
  },
  {
   "cell_type": "code",
   "execution_count": null,
   "metadata": {
    "colab": {
     "base_uri": "https://localhost:8080/"
    },
    "id": "dg32ZWd09rfh",
    "outputId": "68e003d2-d423-439a-cde9-32d2386eedd4"
   },
   "outputs": [],
   "source": [
    "cms_train154[\"PotentialFraud\"].value_counts()"
   ]
  },
  {
   "cell_type": "code",
   "execution_count": null,
   "metadata": {
    "colab": {
     "base_uri": "https://localhost:8080/",
     "height": 80
    },
    "id": "akhxTSP09anw",
    "outputId": "8bf1610a-bce3-430c-e605-bd1e03acbff6"
   },
   "outputs": [],
   "source": [
    "cms_provider[cms_provider[\"Provider\"] == \"PRV57745\"]"
   ]
  },
  {
   "cell_type": "code",
   "execution_count": null,
   "metadata": {
    "colab": {
     "base_uri": "https://localhost:8080/"
    },
    "id": "zZmdkoHW9aug",
    "outputId": "82b97ea6-346e-40d2-fda2-0b35637c3b0f"
   },
   "outputs": [],
   "source": [
    "cms_provider.info()"
   ]
  },
  {
   "cell_type": "code",
   "execution_count": null,
   "metadata": {
    "id": "w7wevoAB9azx"
   },
   "outputs": [],
   "source": [
    "cms_provider = cms_provider.fillna(\"Test\")"
   ]
  },
  {
   "cell_type": "code",
   "execution_count": null,
   "metadata": {
    "colab": {
     "base_uri": "https://localhost:8080/"
    },
    "id": "jiS7BZbs_mXn",
    "outputId": "5aaad060-4e49-494a-c7d9-73f5ff568ea1"
   },
   "outputs": [],
   "source": [
    "cms_provider[\"PotentialFraud\"].value_counts()"
   ]
  },
  {
   "cell_type": "code",
   "execution_count": null,
   "metadata": {
    "id": "RtK9GO1MAQ6T"
   },
   "outputs": [],
   "source": []
  },
  {
   "cell_type": "code",
   "execution_count": null,
   "metadata": {
    "id": "ku5jVlKNyVAa"
   },
   "outputs": [],
   "source": [
    "cms_patient_provider = pd.merge(cms_patient_data, cms_provider, how = \"left\", on = \"Provider\")"
   ]
  },
  {
   "cell_type": "code",
   "execution_count": null,
   "metadata": {
    "colab": {
     "base_uri": "https://localhost:8080/"
    },
    "id": "s2MjSzh61H7j",
    "outputId": "131df2bd-e1b2-403d-90e4-c96fd4c19b0e"
   },
   "outputs": [],
   "source": [
    "print(cms_patient_provider.columns)\n",
    "print(cms_patient_provider.shape)"
   ]
  },
  {
   "cell_type": "code",
   "execution_count": null,
   "metadata": {
    "colab": {
     "base_uri": "https://localhost:8080/"
    },
    "id": "Wt0MzopJ1IB2",
    "outputId": "2be05823-5581-4728-cabe-6583cc1f0c3e"
   },
   "outputs": [],
   "source": [
    "cms_patient_provider[\"PotentialFraud\"].value_counts()"
   ]
  },
  {
   "cell_type": "markdown",
   "metadata": {
    "id": "5UNRln2RnFap"
   },
   "source": [
    "### Merge with Provider data"
   ]
  },
  {
   "cell_type": "markdown",
   "metadata": {
    "id": "QYeTLkYmx_rS"
   },
   "source": [
    "#### Deriving claim duration"
   ]
  },
  {
   "cell_type": "code",
   "execution_count": null,
   "metadata": {
    "id": "FMH16LbTx4nB"
   },
   "outputs": [],
   "source": [
    "## As patient can be admitted for only for 1 day,lets add 1 to the difference of Discharge Date and Admission Date \n",
    "\n",
    "cms_patient_provider['ClaimStartDt'] = pd.to_datetime(cms_patient_provider['ClaimStartDt'] , format = '%Y-%m-%d')\n",
    "cms_patient_provider['ClaimEndDt'] = pd.to_datetime(cms_patient_provider['ClaimEndDt'],format = '%Y-%m-%d')\n",
    "cms_patient_provider['ClaimDuration'] = ((cms_patient_provider['ClaimEndDt'] - cms_patient_provider['ClaimStartDt']).dt.days)+1"
   ]
  },
  {
   "cell_type": "code",
   "execution_count": null,
   "metadata": {
    "colab": {
     "base_uri": "https://localhost:8080/",
     "height": 163
    },
    "id": "iokEfqoSurFD",
    "outputId": "18d955f6-a050-47c3-ba75-bd125dd4e352"
   },
   "outputs": [],
   "source": [
    "cms_patient_provider.head(2)"
   ]
  },
  {
   "cell_type": "code",
   "execution_count": null,
   "metadata": {
    "id": "XTZM_hoy1ajd"
   },
   "outputs": [],
   "source": [
    "\n",
    "#cms_patient_provider.drop([\"ClaimStartDt\", \"ClaimEndDt\"], axis = 1, inplace=True)"
   ]
  },
  {
   "cell_type": "code",
   "execution_count": null,
   "metadata": {
    "colab": {
     "base_uri": "https://localhost:8080/",
     "height": 163
    },
    "id": "rPCLzV-71an0",
    "outputId": "7618242f-60db-4c29-cf68-985640c576df"
   },
   "outputs": [],
   "source": [
    "cms_patient_provider.head(2)"
   ]
  },
  {
   "cell_type": "markdown",
   "metadata": {
    "id": "hbmB6yyr8crf"
   },
   "source": [
    "\n",
    "#### Let's check the missing columns"
   ]
  },
  {
   "cell_type": "code",
   "execution_count": null,
   "metadata": {
    "id": "KXx7L3GqArMK"
   },
   "outputs": [],
   "source": []
  },
  {
   "cell_type": "markdown",
   "metadata": {
    "id": "Qt-IqWyiM3wI"
   },
   "source": [
    "### No missing column as per the above code"
   ]
  },
  {
   "cell_type": "code",
   "execution_count": null,
   "metadata": {
    "colab": {
     "base_uri": "https://localhost:8080/"
    },
    "id": "cHKOdzrZMUKi",
    "outputId": "306626fc-be7e-432d-f84b-de2c80176ed7"
   },
   "outputs": [],
   "source": [
    "cms_patient_provider.columns"
   ]
  },
  {
   "cell_type": "code",
   "execution_count": null,
   "metadata": {
    "colab": {
     "base_uri": "https://localhost:8080/"
    },
    "id": "NxJtWyvqrlHF",
    "outputId": "43a52bd5-5722-4b90-ffd7-9532476fe3fa"
   },
   "outputs": [],
   "source": [
    "### Count number of records\n",
    "## From here we get the count of BeneID and ClaimId for each provider\n",
    "\n",
    "## For Train \n",
    "cms_train_count = cms_patient_provider[['BeneID', 'ClaimID']].groupby(cms_patient_provider['Provider']).nunique().reset_index()\n",
    "cms_train_count.rename(columns={'BeneID':'BeneID_count','ClaimID':'ClaimID_count'},inplace=True)\n",
    "\n",
    "print(cms_train_count.head(5))\n"
   ]
  },
  {
   "cell_type": "markdown",
   "metadata": {
    "id": "4cPRNaSEqfLE"
   },
   "source": []
  },
  {
   "cell_type": "code",
   "execution_count": null,
   "metadata": {
    "colab": {
     "base_uri": "https://localhost:8080/"
    },
    "id": "EYLu9BRnks8m",
    "outputId": "c20e1a9c-0cf4-445c-cf1a-9e95fd7b37dd"
   },
   "outputs": [],
   "source": [
    "#Gender will display Male count\n",
    "cms_train_sum = cms_patient_provider.groupby(['Provider'], as_index = False)[['AttendingPhysician', 'OperatingPhysician',\n",
    "       'OtherPhysician', 'IsInpatient',\n",
    "        'MismatchedAdmitCode', 'Gender',\n",
    "       'RenalDiseaseIndicator',\n",
    "       'ChronicCond_Alzheimer',\n",
    "       'ChronicCond_Heartfailure', 'ChronicCond_KidneyDisease',\n",
    "       'ChronicCond_Cancer', 'ChronicCond_ObstrPulmonary',\n",
    "       'ChronicCond_Depression', 'ChronicCond_Diabetes',\n",
    "       'ChronicCond_IschemicHeart', 'ChronicCond_Osteoporasis',\n",
    "       'ChronicCond_rheumatoidarthritis', 'ChronicCond_stroke',\n",
    "       'IsDead',\n",
    "       'total_physicians', 'IsDiagnosisCode', 'IsDeductibleAmtPaid',\n",
    "       'N_Procedure', 'N_UniqueDiagnosis_Claims','Age_Under_65', 'Age_65_upto_75', \n",
    "       'Age_75_upto_85', 'Age_85_or_Over','Race_1','Race_2','Race_3','Race_5']].sum()\n",
    "\n",
    "print(cms_train_sum.head(5))\n",
    "\n",
    "\n",
    "\n",
    "                                                  "
   ]
  },
  {
   "cell_type": "code",
   "execution_count": null,
   "metadata": {
    "colab": {
     "base_uri": "https://localhost:8080/"
    },
    "id": "xahl2y2RuJal",
    "outputId": "127885ff-b55f-476c-fb64-f6826184fb17"
   },
   "outputs": [],
   "source": [
    "## Here we are calculating the mean of values for some variables for each unique provider.\n",
    "\n",
    "cms_train_mean=round(cms_patient_provider.groupby(['Provider'], as_index = False)[['InscClaimAmtReimbursed', 'DeductibleAmtPaid', 'AdmissionDuration', \n",
    "       'IPAnnualReimbursementAmt', 'IPAnnualDeductibleAmt',\n",
    "       'OPAnnualReimbursementAmt', 'OPAnnualDeductibleAmt', \n",
    "       'NoOfMonths_PartACov', 'NoOfMonths_PartBCov']].mean())\n",
    "\n",
    "print(cms_train_mean.head(3))"
   ]
  },
  {
   "cell_type": "code",
   "execution_count": null,
   "metadata": {
    "id": "WP08eI4gNirq"
   },
   "outputs": [],
   "source": [
    "#cms_patient_provider.drop(['State', 'County'], axis =1, inplace = True)"
   ]
  },
  {
   "cell_type": "code",
   "execution_count": null,
   "metadata": {
    "id": "A2XuQ096-5Vo"
   },
   "outputs": [],
   "source": [
    "## Merging of Train Datasets\n",
    "pd.set_option('display.max_columns', None)\n",
    "pd.set_option('display.max_rows', None)\n",
    "cms_train=pd.merge(cms_train_count,cms_train_sum,on='Provider',how='left').\\\n",
    "                merge(cms_train_mean,on='Provider',how='left').\\\n",
    "                merge(cms_provider, on = 'Provider', how='left')\n"
   ]
  },
  {
   "cell_type": "code",
   "execution_count": null,
   "metadata": {
    "colab": {
     "base_uri": "https://localhost:8080/"
    },
    "id": "ZfpK7jN4L2Ev",
    "outputId": "6c61e6f6-5c62-453c-af05-e766140638a7"
   },
   "outputs": [],
   "source": [
    "\n",
    "print(cms_train.head(5))"
   ]
  },
  {
   "cell_type": "code",
   "execution_count": null,
   "metadata": {
    "id": "ld7HaFH7NSlf"
   },
   "outputs": [],
   "source": [
    "### Check if categorical variables are present"
   ]
  },
  {
   "cell_type": "code",
   "execution_count": null,
   "metadata": {
    "colab": {
     "base_uri": "https://localhost:8080/"
    },
    "id": "Y9EEEE8pCOzn",
    "outputId": "679095f4-e283-4ec9-91e1-6c5f55eb17cf"
   },
   "outputs": [],
   "source": [
    "\n",
    "# store columns with specific data type\n",
    "numeric_columns = cms_train.select_dtypes(include=['integer', 'float64', 'uint8']).columns\n",
    "#float_columns = cms_train.select_dtypes(include=['float64']).columns\n",
    "categorical_columns = cms_train.select_dtypes(include=['object']).columns\n",
    "\n",
    "print(\"numeric_columns: \", numeric_columns)\n",
    "print(\"categorical_columns :\", categorical_columns)"
   ]
  },
  {
   "cell_type": "code",
   "execution_count": null,
   "metadata": {
    "id": "QcV6CkLgkpFf"
   },
   "outputs": [],
   "source": []
  },
  {
   "cell_type": "code",
   "execution_count": null,
   "metadata": {
    "id": "V-2Yp8CF4MkG"
   },
   "outputs": [],
   "source": []
  },
  {
   "cell_type": "code",
   "execution_count": null,
   "metadata": {
    "id": "VSs1QRVp4MkG"
   },
   "outputs": [],
   "source": []
  },
  {
   "cell_type": "code",
   "execution_count": null,
   "metadata": {
    "id": "yxhooU4_4MkG"
   },
   "outputs": [],
   "source": []
  },
  {
   "cell_type": "code",
   "execution_count": null,
   "metadata": {
    "id": "ASp0XOrt4MkG"
   },
   "outputs": [],
   "source": []
  },
  {
   "cell_type": "code",
   "execution_count": null,
   "metadata": {
    "id": "XG1EtcmB4MkG"
   },
   "outputs": [],
   "source": []
  },
  {
   "cell_type": "markdown",
   "metadata": {
    "id": "Jv2QUgFcQFNS"
   },
   "source": [
    "### Target data analysis"
   ]
  },
  {
   "cell_type": "code",
   "execution_count": null,
   "metadata": {
    "colab": {
     "base_uri": "https://localhost:8080/",
     "height": 531
    },
    "id": "xAiL8kc7QEci",
    "outputId": "3cdae3be-29c3-48a7-e42d-8e9ca0a8e241"
   },
   "outputs": [],
   "source": [
    "sns.countplot('PotentialFraud',data=cms_provider)"
   ]
  },
  {
   "cell_type": "code",
   "execution_count": null,
   "metadata": {
    "id": "mD1Lj0u3Kp_e"
   },
   "outputs": [],
   "source": []
  },
  {
   "cell_type": "markdown",
   "metadata": {
    "id": "1fFHK5WRKlfk"
   },
   "source": [
    "### Prepare Training & Test dataset "
   ]
  },
  {
   "cell_type": "code",
   "execution_count": null,
   "metadata": {
    "id": "z1KKVWTGm646"
   },
   "outputs": [],
   "source": [
    "cms_test = cms_patient_provider[cms_patient_provider['PotentialFraud'] == \"Test\"]"
   ]
  },
  {
   "cell_type": "code",
   "execution_count": null,
   "metadata": {
    "colab": {
     "base_uri": "https://localhost:8080/"
    },
    "id": "DV9F5sEDm69u",
    "outputId": "2ccf96d0-74b8-431c-e6a2-5f074bde0893"
   },
   "outputs": [],
   "source": [
    "cms_test.shape"
   ]
  },
  {
   "cell_type": "code",
   "execution_count": null,
   "metadata": {
    "id": "S3r_leR1Qgml"
   },
   "outputs": [],
   "source": [
    "cms_train = cms_train[(cms_train['PotentialFraud'] == \"Yes\")| (cms_train['PotentialFraud'] == \"No\") ]"
   ]
  },
  {
   "cell_type": "code",
   "execution_count": 2,
   "metadata": {
    "colab": {
     "base_uri": "https://localhost:8080/",
     "height": 211
    },
    "id": "Hkzk4zoxFvbs",
    "outputId": "20415566-af90-4981-af62-f7a1ee2fd38b"
   },
   "outputs": [
    {
     "ename": "NameError",
     "evalue": "name 'cms_test' is not defined",
     "output_type": "error",
     "traceback": [
      "\u001b[1;31m---------------------------------------------------------------------------\u001b[0m",
      "\u001b[1;31mNameError\u001b[0m                                 Traceback (most recent call last)",
      "\u001b[1;32m<ipython-input-2-0d1bc74cab13>\u001b[0m in \u001b[0;36m<module>\u001b[1;34m\u001b[0m\n\u001b[1;32m----> 1\u001b[1;33m \u001b[0mcms_test\u001b[0m\u001b[1;33m.\u001b[0m\u001b[0mhead\u001b[0m\u001b[1;33m(\u001b[0m\u001b[1;36m3\u001b[0m\u001b[1;33m)\u001b[0m\u001b[1;33m\u001b[0m\u001b[1;33m\u001b[0m\u001b[0m\n\u001b[0m",
      "\u001b[1;31mNameError\u001b[0m: name 'cms_test' is not defined"
     ]
    }
   ],
   "source": [
    "cms_test.head(3)"
   ]
  },
  {
   "cell_type": "markdown",
   "metadata": {
    "id": "6ACbScaPQhKR"
   },
   "source": []
  },
  {
   "cell_type": "code",
   "execution_count": null,
   "metadata": {
    "id": "cymC3IG_FNKq"
   },
   "outputs": [],
   "source": [
    "cms_train = cms_train.replace({'PotentialFraud': 'Yes'}, 1)\n",
    "cms_train = cms_train.replace({'PotentialFraud': 'No'}, 0)"
   ]
  },
  {
   "cell_type": "code",
   "execution_count": null,
   "metadata": {
    "id": "qeeEQGSTEtui"
   },
   "outputs": [],
   "source": [
    "# change columns types - remove later\n",
    "cms_train['PotentialFraud'] = cms_train['PotentialFraud'].apply(pd.to_numeric)\n",
    "#churn_filtered[cat_cols] = churn_filtered[cat_cols].apply(lambda column: column.astype(\"category\"), axis=0)"
   ]
  },
  {
   "cell_type": "code",
   "execution_count": null,
   "metadata": {
    "colab": {
     "base_uri": "https://localhost:8080/"
    },
    "id": "dfielXCq4MkK",
    "outputId": "c96e0708-721e-41d3-84f5-bf039deb92e9"
   },
   "outputs": [],
   "source": [
    "cms_train.columns"
   ]
  },
  {
   "cell_type": "code",
   "execution_count": null,
   "metadata": {
    "id": "mJHxMbb-M6-M"
   },
   "outputs": [],
   "source": [
    "#provider_train\n",
    "cms_train=cms_train.set_index('Provider')"
   ]
  },
  {
   "cell_type": "code",
   "execution_count": null,
   "metadata": {
    "id": "87HODS2F4MkK"
   },
   "outputs": [],
   "source": [
    "#Preparing training dataset as array - both X_train and y_train\n",
    "\n",
    "X_prep = cms_train.drop(['PotentialFraud'],axis=1)\n",
    "   \n",
    "\n",
    "number_of_features = len(X_prep.columns)\n",
    "X = X_prep.iloc[:,0:number_of_features].values\n",
    "\n",
    "#Putting response variable to y\n",
    "#y_prep = cms_train['PotentialFraud']\n",
    "\n",
    "\n",
    "y = np.ravel(np.array(cms_train['PotentialFraud'].values))"
   ]
  },
  {
   "cell_type": "code",
   "execution_count": null,
   "metadata": {
    "id": "omfyyzfdMG6L"
   },
   "outputs": [],
   "source": [
    "# Split into training and validation set\n",
    "validation_size = 0.2\n",
    "seed = 7\n",
    "X_train, X_validation, Y_train, Y_validation = train_test_split(X, y, test_size=validation_size, random_state=seed)\n"
   ]
  },
  {
   "cell_type": "code",
   "execution_count": null,
   "metadata": {
    "colab": {
     "base_uri": "https://localhost:8080/"
    },
    "id": "VhxjZnSaOWvn",
    "outputId": "086b7085-dfc7-4249-d9a7-19618d0762c8"
   },
   "outputs": [],
   "source": [
    "print(type(X_train))"
   ]
  },
  {
   "cell_type": "code",
   "execution_count": null,
   "metadata": {
    "id": "6o9PUq1DMiHg"
   },
   "outputs": [],
   "source": [
    "from sklearn.base import TransformerMixin\n",
    "#from sklearn.preprocessing import Imputer\n",
    "from sklearn.impute import SimpleImputer\n",
    "from sklearn.preprocessing import MinMaxScaler\n",
    "from sklearn.preprocessing import LabelEncoder\n",
    "from sklearn.metrics import accuracy_score\n",
    "#from sklearn import cross_validation\n",
    "from sklearn.model_selection import train_test_split\n",
    "from sklearn.linear_model import LogisticRegression\n",
    "from sklearn.ensemble import RandomForestClassifier\n",
    "from xgboost import XGBClassifier\n"
   ]
  },
  {
   "cell_type": "code",
   "execution_count": null,
   "metadata": {
    "colab": {
     "base_uri": "https://localhost:8080/"
    },
    "id": "VL1LmXxeMHEi",
    "outputId": "15765233-0eff-4d03-d2bc-d5473dfe2565"
   },
   "outputs": [],
   "source": [
    "scoring = 'accuracy'\n",
    "# Model 3 - XGB Classifier\n",
    "model_xgb = XGBClassifier()\n",
    "model_xgb.fit(X_train, Y_train)\n",
    "accuracy_score(Y_validation, model_xgb.predict(X_validation))"
   ]
  },
  {
   "cell_type": "code",
   "execution_count": null,
   "metadata": {
    "colab": {
     "base_uri": "https://localhost:8080/"
    },
    "id": "-7Yps3qEMHOg",
    "outputId": "29883a37-48e0-42b4-c8d9-9da1ac145fbd"
   },
   "outputs": [],
   "source": [
    "# Model 1 - Logisitic Regression\n",
    "model_logreg = LogisticRegression()\n",
    "model_logreg.fit(X_train, Y_train)\n",
    "print(\"LR:\", accuracy_score(Y_validation, model_logreg.predict(X_validation)))\n",
    "\n",
    "# Model 2 - RandomForest Classifier\n",
    "model_rf = RandomForestClassifier()\n",
    "model_rf.fit(X_train, Y_train)\n",
    "print(\"RF : \", accuracy_score(Y_validation, model_rf.predict(X_validation)))\n",
    "\n",
    "# Model 3 - XGB Classifier\n",
    "model_xgb = XGBClassifier()\n",
    "model_xgb.fit(X_train, Y_train)\n",
    "print(\"XGB :\", accuracy_score(Y_validation, model_xgb.predict(X_validation)))\n",
    "\n",
    "#model_logreg = LogisticRegression()\n",
    "#model_logreg.fit(X, y)\n",
    "\n",
    "#model_rf = RandomForestClassifier()\n",
    "#model_rf.fit(X, y)\n",
    "\n",
    "#model_xgb = XGBClassifier()\n",
    "#model_xgb.fit(X, y)"
   ]
  },
  {
   "cell_type": "code",
   "execution_count": null,
   "metadata": {
    "colab": {
     "base_uri": "https://localhost:8080/"
    },
    "id": "_OQ3zthIQsJl",
    "outputId": "17c9b82b-97bc-42c4-f575-3aabaa75f85c"
   },
   "outputs": [],
   "source": [
    "!pip install lime"
   ]
  },
  {
   "cell_type": "code",
   "execution_count": null,
   "metadata": {
    "id": "rCz0nEQAMHWQ"
   },
   "outputs": [],
   "source": [
    "import sklearn\n",
    "import sklearn.datasets\n",
    "import sklearn.ensemble\n",
    "import numpy as np\n",
    "import lime\n",
    "import lime.lime_tabular\n",
    "from __future__ import print_function"
   ]
  },
  {
   "cell_type": "code",
   "execution_count": null,
   "metadata": {
    "id": "lhlgFdHaMHbx"
   },
   "outputs": [],
   "source": [
    "predict_fn_logreg = lambda x: model_logreg.predict_proba(x).astype(float)\n",
    "predict_fn_rf = lambda x: model_rf.predict_proba(x).astype(float)\n",
    "predict_fn_xgb = lambda x: model_xgb.predict_proba(x).astype(float)\n",
    "\n"
   ]
  },
  {
   "cell_type": "code",
   "execution_count": null,
   "metadata": {
    "id": "IA8T6pBQMHg8"
   },
   "outputs": [],
   "source": [
    "# Line-up the feature names\n",
    "\n",
    "feature_names = list(X_prep.columns)"
   ]
  },
  {
   "cell_type": "code",
   "execution_count": null,
   "metadata": {
    "colab": {
     "base_uri": "https://localhost:8080/"
    },
    "id": "fvlLmaZpR8Ih",
    "outputId": "578a8e19-06f4-4f36-aecb-c7f8954adfe7"
   },
   "outputs": [],
   "source": [
    "\n",
    "print(type(feature_names))\n",
    "print(feature_names)"
   ]
  },
  {
   "cell_type": "code",
   "execution_count": null,
   "metadata": {
    "id": "zOq5sRizTBsb"
   },
   "outputs": [],
   "source": [
    "cat_columns = X_prep.columns"
   ]
  },
  {
   "cell_type": "code",
   "execution_count": null,
   "metadata": {
    "id": "1Pmdvau7i8pP"
   },
   "outputs": [],
   "source": [
    "feature_names_cat = ['AttendingPhysician','OperatingPhysician', 'OtherPhysician', 'IsInpatient',\n",
    "       'MismatchedAdmitCode', 'Gender', 'RenalDiseaseIndicator',\n",
    "       'ChronicCond_Alzheimer', 'ChronicCond_Heartfailure',\n",
    "       'ChronicCond_KidneyDisease', 'ChronicCond_Cancer',\n",
    "       'ChronicCond_ObstrPulmonary', 'ChronicCond_Depression',\n",
    "       'ChronicCond_Diabetes', 'ChronicCond_IschemicHeart',\n",
    "       'ChronicCond_Osteoporasis', 'ChronicCond_rheumatoidarthritis',\n",
    "       'ChronicCond_stroke', 'IsDead', 'IsDiagnosisCode',\n",
    "       'IsDeductibleAmtPaid','Age_Under_65', 'Age_65_upto_75', 'Age_75_upto_85', 'Age_85_or_Over',\n",
    "       'Race_1', 'Race_2', 'Race_3', 'Race_5', 'InscClaimAmtReimbursed']"
   ]
  },
  {
   "cell_type": "code",
   "execution_count": null,
   "metadata": {
    "colab": {
     "base_uri": "https://localhost:8080/"
    },
    "id": "oS8DJYgkzyrn",
    "outputId": "ae422cc4-5c73-4f29-f524-110d94db3308"
   },
   "outputs": [],
   "source": [
    "print(type(X_train))"
   ]
  },
  {
   "cell_type": "code",
   "execution_count": null,
   "metadata": {
    "id": "4WmkYiRSMHlU"
   },
   "outputs": [],
   "source": [
    "# Create the LIME Explainer\n",
    "explainer = lime.lime_tabular.LimeTabularExplainer(X_train ,feature_names = feature_names,class_names=['0','1'],\n",
    "                                                   categorical_features=cat_columns, \n",
    "                                                   categorical_names=feature_names_cat, kernel_width=3)\n",
    "\n",
    "# Pick the observation in the validation set for which explanation is required\n",
    "observation_1 = 2\n",
    "\n"
   ]
  },
  {
   "cell_type": "code",
   "execution_count": null,
   "metadata": {
    "colab": {
     "base_uri": "https://localhost:8080/",
     "height": 414
    },
    "id": "Ls8AP9pb4MkK",
    "outputId": "a872e849-b625-4619-803d-af218adbe008"
   },
   "outputs": [],
   "source": [
    "# Get the explanation for Logistic Regression\n",
    "exp = explainer.explain_instance(X_validation[observation_1], predict_fn_logreg, num_features=6)\n",
    "exp.show_in_notebook(show_all=False)\n",
    "\n",
    "# Get the explanation for RandomForest\n",
    "exp = explainer.explain_instance(X_validation[observation_1], predict_fn_rf, num_features=6)\n",
    "exp.show_in_notebook(show_all=False)"
   ]
  },
  {
   "cell_type": "code",
   "execution_count": null,
   "metadata": {
    "id": "_9XP42JI4MkL"
   },
   "outputs": [],
   "source": []
  },
  {
   "cell_type": "code",
   "execution_count": null,
   "metadata": {
    "id": "QUpyO-1jKjrW"
   },
   "outputs": [],
   "source": []
  }
 ],
 "metadata": {
  "colab": {
   "collapsed_sections": [],
   "name": "WIP_LIME.ipynb",
   "provenance": []
  },
  "kernelspec": {
   "display_name": "Python 3",
   "language": "python",
   "name": "python3"
  },
  "language_info": {
   "codemirror_mode": {
    "name": "ipython",
    "version": 3
   },
   "file_extension": ".py",
   "mimetype": "text/x-python",
   "name": "python",
   "nbconvert_exporter": "python",
   "pygments_lexer": "ipython3",
   "version": "3.8.3"
  }
 },
 "nbformat": 4,
 "nbformat_minor": 1
}
